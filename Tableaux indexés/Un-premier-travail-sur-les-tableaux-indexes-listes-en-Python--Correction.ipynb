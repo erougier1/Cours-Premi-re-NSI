{
 "cells": [
  {
   "cell_type": "markdown",
   "metadata": {},
   "source": [
    "<center><h1>Tableaux indexés ou listes en Python</h1></center>"
   ]
  },
  {
   "cell_type": "markdown",
   "metadata": {},
   "source": [
    "## Type construit\n",
    "Un tableau indexé est un type construit car c'est un objet dont les éléments sont des objets de types de base (ou éventuellement construit) :"
   ]
  },
  {
   "cell_type": "markdown",
   "metadata": {},
   "source": [
    "**Exemple**"
   ]
  },
  {
   "cell_type": "code",
   "execution_count": 2,
   "metadata": {},
   "outputs": [
    {
     "data": {
      "text/plain": [
       "list"
      ]
     },
     "execution_count": 2,
     "metadata": {},
     "output_type": "execute_result"
    }
   ],
   "source": [
    "T = [4, 7, 8, 1]\n",
    "type(T)"
   ]
  },
  {
   "cell_type": "markdown",
   "metadata": {},
   "source": [
    "- La variable `T` est un objet de type `list` en Python dont les éléments sont des objets de type `int`.\n",
    "- Pour accéder aux éléments de `T`, on utilise son index :"
   ]
  },
  {
   "cell_type": "code",
   "execution_count": 3,
   "metadata": {},
   "outputs": [
    {
     "data": {
      "text/plain": [
       "4"
      ]
     },
     "execution_count": 3,
     "metadata": {},
     "output_type": "execute_result"
    }
   ],
   "source": [
    "T[0] # Premier élément de T"
   ]
  },
  {
   "cell_type": "code",
   "execution_count": 4,
   "metadata": {},
   "outputs": [
    {
     "data": {
      "text/plain": [
       "1"
      ]
     },
     "execution_count": 4,
     "metadata": {},
     "output_type": "execute_result"
    }
   ],
   "source": [
    "# Compléter\n",
    "T[-1]  # Dernier élément de T"
   ]
  },
  {
   "cell_type": "code",
   "execution_count": 6,
   "metadata": {},
   "outputs": [
    {
     "data": {
      "text/plain": [
       "7"
      ]
     },
     "execution_count": 6,
     "metadata": {},
     "output_type": "execute_result"
    }
   ],
   "source": [
    "# Compléter\n",
    "T[1]  # Deuxième élément de T"
   ]
  },
  {
   "cell_type": "markdown",
   "metadata": {},
   "source": [
    "## Une fonction et une méthode associées\n",
    "La fonction `len` prend pour paramètre une liste et retourne sa taille : le nombre de ses éléments :"
   ]
  },
  {
   "cell_type": "code",
   "execution_count": 7,
   "metadata": {},
   "outputs": [
    {
     "data": {
      "text/plain": [
       "4"
      ]
     },
     "execution_count": 7,
     "metadata": {},
     "output_type": "execute_result"
    }
   ],
   "source": [
    "# Compléter\n",
    "len(T) # Taille de la liste T"
   ]
  },
  {
   "cell_type": "markdown",
   "metadata": {},
   "source": [
    "La méthode `append` s'applique aux objets de type `list` et ajoute un élément à la fin de la liste :"
   ]
  },
  {
   "cell_type": "code",
   "execution_count": 8,
   "metadata": {},
   "outputs": [
    {
     "data": {
      "text/plain": [
       "[4, 7, 8, 1, 2]"
      ]
     },
     "execution_count": 8,
     "metadata": {},
     "output_type": "execute_result"
    }
   ],
   "source": [
    "# Compléter\n",
    "T.append(2)  # On ajoute l'entier 2 à la fin de la liste\n",
    "T"
   ]
  },
  {
   "cell_type": "markdown",
   "metadata": {},
   "source": [
    "## Parcourir les éléments d'une liste\n",
    "### En utilisant les index :"
   ]
  },
  {
   "cell_type": "code",
   "execution_count": 14,
   "metadata": {},
   "outputs": [
    {
     "name": "stdout",
     "output_type": "stream",
     "text": [
      "4\n",
      "7\n",
      "8\n",
      "1\n",
      "2\n"
     ]
    }
   ],
   "source": [
    "# Compléter\n",
    "taille = len(T)  # Taille de la liste\n",
    "for index in range(taille):\n",
    "    print(T[index])   # Affiche chaque élément de la liste"
   ]
  },
  {
   "cell_type": "markdown",
   "metadata": {},
   "source": [
    "### En parcourant chaque élément"
   ]
  },
  {
   "cell_type": "code",
   "execution_count": 15,
   "metadata": {},
   "outputs": [
    {
     "name": "stdout",
     "output_type": "stream",
     "text": [
      "4\n",
      "7\n",
      "8\n",
      "1\n",
      "2\n"
     ]
    }
   ],
   "source": [
    "# Compléter\n",
    "for element in T:\n",
    "    print(element)"
   ]
  },
  {
   "cell_type": "markdown",
   "metadata": {},
   "source": [
    "## La suite de Collatz\n",
    "Sur le site __wikipedia.org__, on trouve les informations suivantes :\n",
    "\n",
    "La suite de Syracuse(ou de Collatz) d'un nombre entier $N>0$ est définie  par récurrence, de la manière suivante :\n",
    "$$u_0=N\\text{ et pour tout entier naturel }n\\text{ : }u_{n+1}=\\begin{cases}\\dfrac{u_n}{2}\\text{ si }u_n\\text{ est pair,}\\\\3u_n+1\\text{ si }u_n\\text{ est impair.}\\end{cases}$$"
   ]
  },
  {
   "cell_type": "markdown",
   "metadata": {},
   "source": [
    "#### Exercice 1\n",
    "**1.** Calculer, à la main, les dix premiers termes de la suite de Collatz lorsque $u_0=10$. "
   ]
  },
  {
   "cell_type": "markdown",
   "metadata": {},
   "source": [
    "| $u_0$ | $u_1$ | $u_2$ | $u_3$ | $u_4$ | $u_5$ | $u_6$ |\n",
    "|-------|-------|-------|-------|-------|-------|-------|\n",
    "| 10    | 5     | 16    | 8     | 4     | 2  | 1|"
   ]
  },
  {
   "cell_type": "markdown",
   "metadata": {},
   "source": [
    "**2.** Reprendre le travail pour $u_0=21$."
   ]
  },
  {
   "cell_type": "markdown",
   "metadata": {},
   "source": [
    "| $u_0$ | $u_1$ | $u_2$ | $u_3$ | $u_4$ | $u_5$ | $u_6$ |\n",
    "|-------|-------|-------|-------|-------|-------|-------|\n",
    "| 64    | 32     | 16    | 8     | 4     | 2  | 1|"
   ]
  },
  {
   "cell_type": "markdown",
   "metadata": {},
   "source": [
    "### Conjecture de Syracuse\n",
    "La conjecture de Syracuse affirme que pour tout $N$, il existe un indice $n$ tel que $u_n = 1$.\n",
    "\n",
    "L'observation graphique de la suite pour $N = 15$ et pour $N = 127$ montre que la suite peut s'élever assez haut avant de retomber. Les graphiques font penser à la chute chaotique d'un grêlon ou bien à la trajectoire d'une feuille emportée par le vent. De cette observation est né tout un vocabulaire imagé : on parlera du vol de la suite.\n",
    "\n",
    "![N=15](ex2-1.png)![N=15](ex2-2.png)"
   ]
  },
  {
   "cell_type": "markdown",
   "metadata": {},
   "source": [
    "### Exercice 2\n",
    "**1.** Écrire un algorithme (en langage courant) affichant tous les termes de la suite de Collatz jusqu'à afficher le premier terme égale à 1."
   ]
  },
  {
   "cell_type": "markdown",
   "metadata": {},
   "source": [
    "**Saisir** N  \n",
    "U $\\leftarrow$ N  \n",
    "**Tant que** U > 1 **faire**  \n",
    "&#xA0;&#xA0;&#xA0;&#xA0; **Si** U%2 = 0 **alors**  \n",
    "&#xA0;&#xA0;&#xA0;&#xA0;&#xA0;&#xA0;&#xA0;&#xA0;U $\\leftarrow$ U / 2  \n",
    "&#xA0;&#xA0;&#xA0;&#xA0;**Sinon**  \n",
    "&#xA0;&#xA0;&#xA0;&#xA0;&#xA0;&#xA0;&#xA0;&#xA0;U $\\leftarrow$ 3xU+1  \n",
    "&#xA0;&#xA0;&#xA0;&#xA0;&#xA0;&#xA0;&#xA0;&#xA0;**Afficher** U  \n",
    "**Afficher** U"
   ]
  },
  {
   "cell_type": "markdown",
   "metadata": {},
   "source": [
    "**2.** À l'aide de cet algorithme, compléter la fonction `collatz_indice` suivante qui prend pour paramètre un entier naturel `N` différent de zéro et retourne en sortie le plus petit indice `n` tel que $u_n=1$ : cet entier s'appelle le **temps de vol** de la suite de Collatz."
   ]
  },
  {
   "cell_type": "code",
   "execution_count": 5,
   "metadata": {},
   "outputs": [],
   "source": [
    "import sys\n",
    "# À compléter\n",
    "def collatz_indice(N : int)-> int:\n",
    "    \"\"\" Retourne le premier indice de la suite de Collatz du nombre N pour\n",
    "        lequel le terme vaut 1\n",
    "    \"\"\"\n",
    "    # Les instructions assert sont utilisées pour vérifier les préconditions. \n",
    "    # Une telle instruction se compose d'une condition (une expression booléenne) \n",
    "    # éventuellement suivie d'une virgule et d'une phrase en langue naturelle, \n",
    "    # sous forme d'une chaine de caractères. L'instruction assert teste si sa condition est satisfaite. \n",
    "    # Si c'est le cas, elle ne fait rien et sinon elle arrête immédiatement l'exécution du programme \n",
    "    # en affichant éventuellement la phrase qui lui est associée.\n",
    "    try:\n",
    "        assert type(N) == int\n",
    "    except AssertionError:\n",
    "        print(\"La variable N doit être de type int\")\n",
    "        return None\n",
    "    try:\n",
    "        assert N > 0\n",
    "    except AssertionError:\n",
    "        print(\"La variable doit être un entier naturel non nul\")\n",
    "        return None\n",
    "    \n",
    "    # On commence la fonction\n",
    "    indice = 0\n",
    "    while N != 1:\n",
    "        if N%2 == 0:\n",
    "            N = N//2\n",
    "        else:\n",
    "            N = 3*N+1\n",
    "        indice = indice + 1\n",
    "    return indice"
   ]
  },
  {
   "cell_type": "markdown",
   "metadata": {},
   "source": [
    "**3.** Vérifier que les préconditions fonctionnent pour 3.2 et -16."
   ]
  },
  {
   "cell_type": "code",
   "execution_count": 3,
   "metadata": {},
   "outputs": [
    {
     "name": "stdout",
     "output_type": "stream",
     "text": [
      "La variable N doit être de type int\n"
     ]
    }
   ],
   "source": [
    "## Pour 3.2\n",
    "collatz_indice(3.2)"
   ]
  },
  {
   "cell_type": "code",
   "execution_count": 4,
   "metadata": {},
   "outputs": [
    {
     "name": "stdout",
     "output_type": "stream",
     "text": [
      "La variable doit être un entier naturel non nul\n"
     ]
    }
   ],
   "source": [
    "### Pour -16\n",
    "collatz_indice(-16)"
   ]
  },
  {
   "cell_type": "markdown",
   "metadata": {},
   "source": [
    "**4.** Vérifier que le **temps de vol** de la suite est 17 pour $u_0=15$ et 46 pour $u_0=127$ :  \n",
    "$\\begin{array}{|*{22}{c|}}\\hline\n",
    "   u_0 &\tu_1& \tu_2& \tu_3 &\tu_4 &\tu_5 &\tu_6& \tu_7& \tu_8 &\tu_9 &\tu_{10}& \tu_{11}& \tu_{12}& \tu_{13} \t&u_{14}& \tu_{15} &\tu_{16} \t&u_{17}& \tu_{18}& \tu_{19}& \tu_{20}&\\\\\\hline\n",
    "15 &\t46& \t23& \t70& \t35& \t106& \t53& \t160& \t80& \t40& \t20& \t10& \t5 &\t16& \t8& \t4 &\t2 &\t1 &\t4 &\t2 &1 &\t...\\\\\\hline \n",
    "   \\end{array}$"
   ]
  },
  {
   "cell_type": "code",
   "execution_count": null,
   "metadata": {},
   "outputs": [],
   "source": [
    "N = 15\n",
    "print(f\"Temps de vol pour N = {N} : {collatz_indice(N)}\")\n",
    "N = 127\n",
    "print(f\"Temps de vol pour N = {N} : {collatz_indice(N)}\")"
   ]
  },
  {
   "cell_type": "markdown",
   "metadata": {},
   "source": [
    "**5.** Écrire la fonction `collatz_liste` ayant comme paramètre d'entrée un entier naturel $N$ et retournant en sortie la partie de la suite de Syracuse tronquée au premier terme égal à $1$. \n",
    "   Par exemple : `collatz_liste(15)` retourne la liste :  \n",
    "   `[15,46,23,70,35,106,53,160,80,40,20,10,5,16,8,4,2,1]`."
   ]
  },
  {
   "cell_type": "code",
   "execution_count": 29,
   "metadata": {},
   "outputs": [],
   "source": [
    "def collatz_liste(N : int)-> list:\n",
    "    \"\"\" \n",
    "    Retourne une liste contenant les premiers termes de la uite de Collatz \n",
    "    du nombre N tronquée au premier terme égal à 1 \n",
    "    \"\"\"\n",
    "    assert type(N) == int, \"la variable N doit être de type int\"\n",
    "    assert N > 0, \"la variable doit être un entier naturel non nul\"\n",
    "    \n",
    "    # On commence la fonction\n",
    "    U = [N]\n",
    "    while N != 1:\n",
    "        if N%2 == 0:\n",
    "            N = N//2\n",
    "        else:\n",
    "            N = 3*N+1\n",
    "        U.append(N)\n",
    "    return U"
   ]
  },
  {
   "cell_type": "code",
   "execution_count": 31,
   "metadata": {},
   "outputs": [
    {
     "name": "stdout",
     "output_type": "stream",
     "text": [
      "Liste pour N = 15 : [15, 46, 23, 70, 35, 106, 53, 160, 80, 40, 20, 10, 5, 16, 8, 4, 2, 1]\n",
      "Liste pour N = 21 : [21, 64, 32, 16, 8, 4, 2, 1]\n"
     ]
    }
   ],
   "source": [
    "## Quelques tests :\n",
    "N = 15\n",
    "print(f\"Liste pour N = {N} : {collatz_liste(N)}\")\n",
    "N = 21\n",
    "print(f\"Liste pour N = {N} : {collatz_liste(N)}\")"
   ]
  },
  {
   "cell_type": "markdown",
   "metadata": {},
   "source": [
    "### Pour allez plus loin\n",
    "On définit alors :\n",
    "- **le temps de vol en altitude :** c'est le plus petit indice $n$ tel que $u_{n+1} \\leq u_0$.  \n",
    "Il est de 10 pour la suite de Syracuse $15$ et de $23$ pour la suite de Syracuse $127$ ;\n",
    "- **l'altitude maximale :** c'est la valeur maximale de la suite.  \n",
    "Elle est de $160$ pour la suite de Syracuse $15$ et de $4\\,372$ pour la suite de Syracuse $127$.\n",
    "\n"
   ]
  },
  {
   "cell_type": "markdown",
   "metadata": {},
   "source": [
    "### Exercice 3\n",
    "**1.** Écrire une fonction `vol_altitude` utilisant la fonction `collatz_liste`, ayant comme paramètre d'entrée un entier naturel `N` et retournant le temps de vol en altitude de la suite de Collatz du nombre $N$."
   ]
  },
  {
   "cell_type": "code",
   "execution_count": 37,
   "metadata": {},
   "outputs": [],
   "source": [
    "def vol_altitude(N:int)->int:\n",
    "    \"\"\"\n",
    "    Retourne le temps de vol en altitude de la suite de Collatz.\n",
    "    On utilise la fonction collatz_liste() (assert inutile)\n",
    "    \"\"\"\n",
    "    \n",
    "    indice = 0\n",
    "    U = collatz_liste(N)\n",
    "    while U[indice+1] > N:\n",
    "        indice = indice + 1\n",
    "    return indice"
   ]
  },
  {
   "cell_type": "code",
   "execution_count": 36,
   "metadata": {},
   "outputs": [
    {
     "name": "stdout",
     "output_type": "stream",
     "text": [
      "Temps de vol en altitude pour N = 15 : 10\n",
      "Temps de vol en altitude pour N = 127 : 23\n"
     ]
    }
   ],
   "source": [
    "## Quelques tests :\n",
    "N = 15\n",
    "print(f\"Temps de vol en altitude pour N = {N} : {vol_altitude(N)}\")\n",
    "N = 127\n",
    "print(f\"Temps de vol en altitude pour N = {N} : {vol_altitude(N)}\")"
   ]
  },
  {
   "cell_type": "markdown",
   "metadata": {},
   "source": [
    "**2.** Écrire une fonction `altitude_max`, utilisant la fonction `collatz_liste`, ayant comme paramètre d'entrée un entier naturel `N` et retournant l'altitude maximale de la suite de Collatz du nombre $N$."
   ]
  },
  {
   "cell_type": "code",
   "execution_count": 40,
   "metadata": {},
   "outputs": [],
   "source": [
    "def altitude_max(N:int)->int:\n",
    "    \"\"\"\n",
    "    Retourne l'altitude maximale de la suite de Collatz.\n",
    "    On utilise la fonction collatz_liste()\n",
    "    \"\"\"\n",
    "    maximum = N\n",
    "    U = collatz_liste(N)\n",
    "    for element in U:\n",
    "        if element > maximum:\n",
    "            maximum = element\n",
    "    return maximum"
   ]
  },
  {
   "cell_type": "code",
   "execution_count": 39,
   "metadata": {},
   "outputs": [
    {
     "name": "stdout",
     "output_type": "stream",
     "text": [
      "Altitude maximale pour N = 15 : 160\n",
      "Altitude maximale pour N = 127 : 4372\n"
     ]
    }
   ],
   "source": [
    "## Quelques tests :\n",
    "N = 15\n",
    "print(f\"Altitude maximale pour N = {N} : {altitude_max(N)}\")\n",
    "N = 127\n",
    "print(f\"Altitude maximale pour N = {N} : {altitude_max(N)}\")"
   ]
  },
  {
   "cell_type": "markdown",
   "metadata": {},
   "source": [
    "**3.** Écrire un programme demandant un entier à l'utilisateur et affichant les valeurs maximales des paramètres définis précédemment ainsi que les entiers correspondants, pour tout les entiers inférieurs ou\n",
    "égaux à l’entier saisit. Par exemple, on obtiendrait :\n",
    "\n",
    "![200](ex2-3.png)"
   ]
  },
  {
   "cell_type": "code",
   "execution_count": 44,
   "metadata": {},
   "outputs": [
    {
     "name": "stdout",
     "output_type": "stream",
     "text": [
      "Saisir un entier : 200\n",
      "Le temps de vol maximal est 124 pour N = 171\n",
      "Le temps de en altitude maximal est 95 pour N = 27\n",
      "L'altitude maximale est 9232 pour N = 27\n"
     ]
    }
   ],
   "source": [
    "entier = int(input(\"Saisir un entier : \"))\n",
    "vol_max = [0,0]\n",
    "vol_altitude_max = [0,0]\n",
    "max_altitude_max = [0,0]\n",
    "for i in range(3, entier+1):\n",
    "    if collatz_indice(i) > vol_max[0]:\n",
    "        vol_max = [collatz_indice(i), i]\n",
    "    if vol_altitude(i) > vol_altitude_max[0]:\n",
    "        vol_altitude_max = [vol_altitude(i), i]\n",
    "    if altitude_max(i) > max_altitude_max[0]:\n",
    "        max_altitude_max = [altitude_max(i), i]\n",
    "print(f\"Le temps de vol maximal est {vol_max[0]} pour N = {vol_max[1]}\")\n",
    "print(f\"Le temps de en altitude maximal est {vol_altitude_max[0]} pour N = {vol_altitude_max[1]}\")\n",
    "print(f\"L'altitude maximale est {max_altitude_max[0]} pour N = {max_altitude_max[1]}\")"
   ]
  }
 ],
 "metadata": {
  "kernelspec": {
   "display_name": "Python 3",
   "language": "python",
   "name": "python3"
  },
  "language_info": {
   "codemirror_mode": {
    "name": "ipython",
    "version": 3
   },
   "file_extension": ".py",
   "mimetype": "text/x-python",
   "name": "python",
   "nbconvert_exporter": "python",
   "pygments_lexer": "ipython3",
   "version": "3.7.3"
  },
  "latex_envs": {
   "LaTeX_envs_menu_present": true,
   "autoclose": false,
   "autocomplete": true,
   "bibliofile": "biblio.bib",
   "cite_by": "apalike",
   "current_citInitial": 1,
   "eqLabelWithNumbers": true,
   "eqNumInitial": 1,
   "hotkeys": {
    "equation": "Ctrl-E",
    "itemize": "Ctrl-I"
   },
   "labels_anchors": false,
   "latex_user_defs": false,
   "report_style_numbering": false,
   "user_envs_cfg": false
  }
 },
 "nbformat": 4,
 "nbformat_minor": 2
}
