{
 "cells": [
  {
   "cell_type": "markdown",
   "metadata": {},
   "source": [
    "<center><h1>Tableaux indexés ou listes en Python</h1></center>"
   ]
  },
  {
   "cell_type": "markdown",
   "metadata": {},
   "source": [
    "## Type construit\n",
    "Un tableau indexé est un type construit car c'est un objet dont les éléments sont des objets de types de base (ou éventuellement construit) :"
   ]
  },
  {
   "cell_type": "markdown",
   "metadata": {},
   "source": [
    "**Exemple**"
   ]
  },
  {
   "cell_type": "code",
   "execution_count": 2,
   "metadata": {},
   "outputs": [
    {
     "data": {
      "text/plain": [
       "list"
      ]
     },
     "execution_count": 2,
     "metadata": {},
     "output_type": "execute_result"
    }
   ],
   "source": [
    "T = [4, 7, 8, 1]\n",
    "type(T)"
   ]
  },
  {
   "cell_type": "markdown",
   "metadata": {},
   "source": [
    "- La variable `T` est un objet de type `list` en Python dont les éléments sont des objets de type `int`.\n",
    "- Pour accéder aux éléments de `T`, on utilise son index :"
   ]
  },
  {
   "cell_type": "code",
   "execution_count": 3,
   "metadata": {},
   "outputs": [
    {
     "data": {
      "text/plain": [
       "4"
      ]
     },
     "execution_count": 3,
     "metadata": {},
     "output_type": "execute_result"
    }
   ],
   "source": [
    "T[0] # Premier élément de T"
   ]
  },
  {
   "cell_type": "code",
   "execution_count": null,
   "metadata": {},
   "outputs": [],
   "source": [
    "# Compléter\n",
    "T[...]  # Dernier élément de T"
   ]
  },
  {
   "cell_type": "code",
   "execution_count": null,
   "metadata": {},
   "outputs": [],
   "source": [
    "# Compléter\n",
    "T[...]  # Premier élément de T"
   ]
  },
  {
   "cell_type": "markdown",
   "metadata": {},
   "source": [
    "## Une fonction et une méthode associées\n",
    "La fonction `len` prend pour paramètre une liste et retourne sa taille : le nombre de ses éléments :"
   ]
  },
  {
   "cell_type": "code",
   "execution_count": null,
   "metadata": {},
   "outputs": [],
   "source": [
    "# Compléter\n",
    "len(...) # Taille de la liste T"
   ]
  },
  {
   "cell_type": "markdown",
   "metadata": {},
   "source": [
    "La méthode `append` s'applique aux objets de type `list` et ajoute un élément à la fin de la liste :"
   ]
  },
  {
   "cell_type": "code",
   "execution_count": null,
   "metadata": {},
   "outputs": [],
   "source": [
    "# Compléter\n",
    "T.append(...)  # On ajoute l'entier 2 à la fin de la liste\n",
    "T"
   ]
  },
  {
   "cell_type": "markdown",
   "metadata": {},
   "source": [
    "## Parcourir les éléments d'une liste\n",
    "### En utilisant les index :"
   ]
  },
  {
   "cell_type": "code",
   "execution_count": null,
   "metadata": {},
   "outputs": [],
   "source": [
    "# Compléter\n",
    "taille = ...  # Taille de la liste\n",
    "for index in range(taille):\n",
    "    print(....)   # Affiche chaque élément de la liste"
   ]
  },
  {
   "cell_type": "markdown",
   "metadata": {},
   "source": [
    "### En parcourant chaque élément"
   ]
  },
  {
   "cell_type": "code",
   "execution_count": null,
   "metadata": {},
   "outputs": [],
   "source": [
    "# Compléter\n",
    "for element in ...:\n",
    "    print(...)"
   ]
  },
  {
   "cell_type": "markdown",
   "metadata": {},
   "source": [
    "## La suite de Collatz\n",
    "Sur le site __wikipedia.org__, on trouve les informations suivantes :\n",
    "\n",
    "La suite de Syracuse(ou de Collatz) d'un nombre entier $N>0$ est définie  par récurrence, de la manière suivante :\n",
    "$$u_0=N\\text{ et pour tout entier naturel }n\\text{ : }u_{n+1}=\\begin{cases}\\dfrac{u_n}{2}\\text{ si }u_n\\text{ est pair,}\\\\3u_n+1\\text{ si }u_n\\text{ est impair.}\\end{cases}$$"
   ]
  },
  {
   "cell_type": "markdown",
   "metadata": {},
   "source": [
    "La conjecture de Syracuse affirme que pour tout $N$, il existe un indice $n$ tel que $u_n = 1$.\n",
    "\n",
    "L'observation graphique de la suite pour $N = 15$ et pour $N = 127$ montre que la suite peut s'élever assez haut avant de retomber. Les graphiques font penser à la chute chaotique d'un grêlon ou bien à la trajectoire d'une feuille emportée par le vent. De cette observation est né tout un vocabulaire imagé : on parlera du vol de la suite.\n",
    "\n",
    "![N=15](ex2-1.png)![N=15](ex2-2.png)"
   ]
  },
  {
   "cell_type": "code",
   "execution_count": null,
   "metadata": {},
   "outputs": [],
   "source": []
  },
  {
   "cell_type": "markdown",
   "metadata": {},
   "source": [
    "On définit alors :\n",
    "- **le temps de vol :** c'est le plus petit indice $n$ tel que $u_n = 1$.  \n",
    "Il est de $17$ pour la suite de Syracuse $15$ et de $46$ pour la suite de Syracuse $127$ ;\n",
    "- **le temps de vol en altitude :** c'est le plus petit indice $n$ tel que $u_{n+1} \\leq u_0$.  \n",
    "Il est de 10 pour la suite de Syracuse $15$ et de $23$ pour la suite de Syracuse $127$ ;\n",
    "- **l'altitude maximale :** c'est la valeur maximale de la suite.  \n",
    "Elle est de $160$ pour la suite de Syracuse $15$ et de $4\\,372$ pour la suite de Syracuse $127$.\n",
    "\n",
    "$$\\begin{array}{|*{22}{c|}}\\hline\n",
    "   u_0 &\tu_1& \tu_2& \tu_3 &\tu_4 &\tu_5 &\tu_6& \tu_7& \tu_8 &\tu_9 &\tu_{10}& \tu_{11}& \tu_{12}& \tu_{13} \t&u_{14}& \tu_{15} &\tu_{16} \t&u_{17}& \tu_{18}& \tu_{19}& \tu_{20}&\\\\\\hline\n",
    "15 &\t46& \t23& \t70& \t35& \t106& \t53& \t160& \t80& \t40& \t20& \t10& \t5 &\t16& \t8& \t4 &\t2 &\t1 &\t4 &\t2 &\t1 &\t...\\\\\\hline \n",
    "   \\end{array}$$"
   ]
  },
  {
   "cell_type": "markdown",
   "metadata": {},
   "source": [
    "**1.** Écrire une fonction `collatz` ayant comme paramètre d'entrée un entier naturel $N$ et retournant en sortie la partie de la suite de Syracuse tronquée au premier terme égal à $1$. \n",
    "   Par exemple : `collatz(15)` retourne la liste `[15,46,23,70,35,106,53,160,80,40,20,10,5,16,8,4,2,1]`.   "
   ]
  },
  {
   "cell_type": "code",
   "execution_count": null,
   "metadata": {},
   "outputs": [],
   "source": [
    "def collatz(N):\n",
    "    ..."
   ]
  },
  {
   "cell_type": "code",
   "execution_count": null,
   "metadata": {},
   "outputs": [],
   "source": [
    "# Pour tester\n",
    "collatz(15)"
   ]
  },
  {
   "cell_type": "markdown",
   "metadata": {},
   "source": [
    "**2.** Écrire une fonction `vol` utilisant la fonction `collatz`, ayant comme paramètre d'entrée un entier naturel $N$ et retournant en sortie une liste composée dans cet ordre : du temps de vol, du temps de vols en altitude et de l'altitude maximale de la suite de Syracuse du nombre $N$. Par exemple : `vol(15)` retourne la liste `[17,10,160]`."
   ]
  },
  {
   "cell_type": "code",
   "execution_count": null,
   "metadata": {},
   "outputs": [],
   "source": [
    "def vol(N):\n",
    "    ..."
   ]
  },
  {
   "cell_type": "code",
   "execution_count": null,
   "metadata": {},
   "outputs": [],
   "source": [
    "# Pour tester\n",
    "vol(15)"
   ]
  }
 ],
 "metadata": {
  "kernelspec": {
   "display_name": "Python 3",
   "language": "python",
   "name": "python3"
  },
  "language_info": {
   "codemirror_mode": {
    "name": "ipython",
    "version": 3
   },
   "file_extension": ".py",
   "mimetype": "text/x-python",
   "name": "python",
   "nbconvert_exporter": "python",
   "pygments_lexer": "ipython3",
   "version": "3.7.3"
  },
  "latex_envs": {
   "LaTeX_envs_menu_present": true,
   "autoclose": false,
   "autocomplete": true,
   "bibliofile": "biblio.bib",
   "cite_by": "apalike",
   "current_citInitial": 1,
   "eqLabelWithNumbers": true,
   "eqNumInitial": 1,
   "hotkeys": {
    "equation": "Ctrl-E",
    "itemize": "Ctrl-I"
   },
   "labels_anchors": false,
   "latex_user_defs": false,
   "report_style_numbering": false,
   "user_envs_cfg": false
  }
 },
 "nbformat": 4,
 "nbformat_minor": 2
}
