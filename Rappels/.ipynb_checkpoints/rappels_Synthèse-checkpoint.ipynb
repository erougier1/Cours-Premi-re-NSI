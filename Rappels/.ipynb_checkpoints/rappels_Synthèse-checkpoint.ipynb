{
 "cells": [
  {
   "cell_type": "markdown",
   "metadata": {},
   "source": [
    "# Rappels de seconde sur les algorithmes et le langage Python"
   ]
  },
  {
   "cell_type": "markdown",
   "metadata": {},
   "source": [
    "## I - Affectations et variables\n",
    "### Définition\n",
    "> Un algorithme est une suite finie d'opérations élémentaires, à appliquer dans un ordre déterminé, à des données.\n",
    "\n",
    "Dans un algorithme ou un programm en Python : \n",
    "- on utilise des **variables** ;\n",
    "- les variables représente des nombres ou d'autres objets (listes, chaînes de caractère, ...) ;\n",
    "- on utilise une lettre ou un mot pour les désigner ;\n",
    "- on modifie leur valeur lors d'**affectations**."
   ]
  },
  {
   "cell_type": "markdown",
   "metadata": {},
   "source": [
    "On effectue par exemple les affectations suivantes : \n",
    "\n",
    "> $b \\leftarrow 3$  \n",
    "> $a\\leftarrow 4$  \n",
    "> $b\\leftarrow a+b$\n",
    "\n",
    "La traduction en Python est la suivante :\n",
    "\n",
    ">```python\n",
    "b = 3\n",
    "a = 4\n",
    "b = a + b\n",
    "```"
   ]
  },
  {
   "cell_type": "markdown",
   "metadata": {},
   "source": [
    "## II - Instructions conditionnelles\n",
    "### Définition\n",
    "> La structure `si ... alors ... sinon ... ` (qui se traduit par `if ... then ... else` en anglais) permet de définir une condition: _si_ cette condition est remplie, **alors** on effectuera certaines instructions ; **sinon** on effectuera d'autres instructions.\n",
    "\n",
    "La structure générale est la suivante :\n",
    "\n",
    "**Si** Condition **alors**  \n",
    " > Traitement $1$  \n",
    "\n",
    "**sinon**  \n",
    "> Traitement $2$"
   ]
  },
  {
   "cell_type": "markdown",
   "metadata": {},
   "source": [
    "La condition est soit _vraie_ soit _fausse_, si elle est vraie le Traitement $1$ est effectué, si elle est fausse c'est le Traitement $2$ qui est effectué. L'intruction `sinon` n'est pas obligatoire.\n",
    "\n",
    "Sa traduction en Python est la suivante :\n",
    "\n",
    "```python\n",
    "if Condition:\n",
    "    Traitement1\n",
    "else:\n",
    "    Traitement2```"
   ]
  },
  {
   "cell_type": "markdown",
   "metadata": {},
   "source": [
    "## III - Les boucles\n",
    "### Définition\n",
    "> Une **boucle bornée** est utilisée lorsque l'on veut **répéter un certain nombre de fois** les mêmes instructions. \n",
    "\n",
    "#### Remarque \n",
    "> Une variable sera utilisée pour __compter__ le nombre de répétitions, on dit parle ainsi __d'itérations__. En général, elle prendra des valeurs entières. À chaque itération, la variable est incrémentée d'une unité (sauf indication contraire).\n",
    "\n",
    "La structure générale est la suivante :"
   ]
  },
  {
   "cell_type": "markdown",
   "metadata": {},
   "source": [
    "**Pour** i **allant de** 0 **jusqu'à** 9 **faire**\n",
    "> Instructions\n",
    "\n",
    "**FinPour**\n",
    "\n",
    "Dans cette boucle, les _instructions_ sont répétées 10 fois. "
   ]
  },
  {
   "cell_type": "markdown",
   "metadata": {},
   "source": [
    "#### Remarque\n",
    "> La variable i prendra successivement les valeurs :  0, 1, 2, 3, 4, 5, 6, 7, 8 et 9.\n",
    "\n",
    "Sa traduction en Python est la suivante :\n",
    ">```python\n",
    "for i in range(10):\n",
    "    Instructions\n",
    "```"
   ]
  },
  {
   "cell_type": "markdown",
   "metadata": {},
   "source": [
    "### Définition\n",
    "> Une **boucle non bornée** est utilisée lorsque l'on veut **répéter** les mêmes instructions **tant que** une **condition** est réalisée.\n",
    "\n",
    "La structure générale est la suivante :\n",
    "\n",
    "**Tant que** Condition\n",
    "> Instructions\n",
    "\n",
    "**FinTantque**"
   ]
  },
  {
   "cell_type": "markdown",
   "metadata": {},
   "source": [
    "#### Remarque\n",
    "> Lorsque l'on sort de la boucle la \"_Condition_\" est fausse.\n",
    "\n",
    "Sa traduction en Python est la suivante :\n",
    ">```python\n",
    "while Condition:\n",
    "    Instructions\n",
    "```"
   ]
  },
  {
   "cell_type": "markdown",
   "metadata": {},
   "source": [
    "## IV - Les fonctions\n",
    "### Information\n",
    "> Les fonctions permettent de décomposer un algorithme complexe en une série de sous-algorithmes plus simples, lesquels peuvent à leur tour être décomposés en fragments plus petits, et ainsi de suite. Une fonction **retourne** en **sortie** un ou des objet(s) et/ou exécute une tâche, pour cela on peut lui fournir un ou des **arguments**\n",
    "en **entrée**.  \n",
    "Une fonction est ensuite **appelée** dans le cœur de l’algorithme.\n",
    "\n",
    "La structure générale est la suivante :\n",
    "\n",
    "**Définition** Fonction(paramètres):  \n",
    "> Instructions  \n",
    "> Retourne objets  \n",
    "\n",
    "**FinDéfinition**  \n",
    "...  \n",
    "`# Appel de la fonction`  \n",
    "A $\\leftarrow$ Fonction(valeurs des paramètres)\n",
    "\n",
    "Sa syntaxe Python est la suivante :\n",
    "\n",
    "```python\n",
    "def Fonction(paramètres):\n",
    "    Instructions\n",
    "    return objets\n",
    "\n",
    "# Appel de la fonction\n",
    "A = Fonction(valeurs)```"
   ]
  },
  {
   "cell_type": "markdown",
   "metadata": {},
   "source": [
    "### Remarques :\n",
    "- Il faut bien distinguer la définition de la fonction et son\n",
    "appel à l’intérieur de l’algorithme.\n",
    "- Lors de cet appel, l'objet retourné par la fonction est\n",
    "affecté à la variable A."
   ]
  }
 ],
 "metadata": {
  "celltoolbar": "Format de la Cellule Texte Brut",
  "kernelspec": {
   "display_name": "Python 3",
   "language": "python",
   "name": "python3"
  },
  "language_info": {
   "codemirror_mode": {
    "name": "ipython",
    "version": 3
   },
   "file_extension": ".py",
   "mimetype": "text/x-python",
   "name": "python",
   "nbconvert_exporter": "python",
   "pygments_lexer": "ipython3",
   "version": "3.7.3"
  },
  "latex_envs": {
   "LaTeX_envs_menu_present": true,
   "autoclose": false,
   "autocomplete": true,
   "bibliofile": "biblio.bib",
   "cite_by": "apalike",
   "current_citInitial": 1,
   "eqLabelWithNumbers": true,
   "eqNumInitial": 1,
   "hotkeys": {
    "equation": "Ctrl-E",
    "itemize": "Ctrl-I"
   },
   "labels_anchors": false,
   "latex_user_defs": false,
   "report_style_numbering": false,
   "user_envs_cfg": false
  }
 },
 "nbformat": 4,
 "nbformat_minor": 2
}
