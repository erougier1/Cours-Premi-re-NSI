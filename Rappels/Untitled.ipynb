{
 "cells": [
  {
   "cell_type": "markdown",
   "metadata": {},
   "source": [
    "# Rappels de seconde sur les algorithmes et le langage Python"
   ]
  },
  {
   "cell_type": "markdown",
   "metadata": {},
   "source": [
    "## Affectations et variables\n",
    "__Définition__\n",
    "> Un algorithme est une suite finie d'opérations élémentaires, à appliquer dans un ordre déterminé, à des données.\n",
    "\n",
    "Dans un algorithme, on utilise des \\textbf{variables}. Elles représente des nombres ou d'autres objets (listes, chaînes de caractère, ...) et on utilise une lettre ou un mot pour les désigner. On modifie leur valeur lors d'\\textbf{affectations}.\n",
    "\n",
    "On peut se représenter mentalement une variable comme une boîte pouvant contenir des objets et munit d'une étiquette : son nom. Ici deux variables $a$ et $b$.\n",
    "\n",
    "La variable $a$ est vide et la variable $b$ contient le nombre $3$ : \n",
    "\n",
    "<img src = \"A2-Variable1.png\" width= \"50%\">"
   ]
  },
  {
   "cell_type": "code",
   "execution_count": 17,
   "metadata": {},
   "outputs": [
    {
     "name": "stdout",
     "output_type": "stream",
     "text": [
      "-32\n"
     ]
    }
   ],
   "source": [
    "a = [[1, 5], [-3, 2]]\n",
    "b = [[3,-2], [4, -6]]\n",
    "c = [[None, None], [None, None]]\n",
    "for i in range(2):\n",
    "    for j in range(2):\n",
    "        c[i][j] = a[i][0]*b[0][j]+a[i][1]*b[1][j]\n",
    "print(c[0][1])"
   ]
  },
  {
   "cell_type": "code",
   "execution_count": 14,
   "metadata": {},
   "outputs": [
    {
     "data": {
      "text/plain": [
       "[[23, -32], [-1, -6]]"
      ]
     },
     "execution_count": 14,
     "metadata": {},
     "output_type": "execute_result"
    }
   ],
   "source": [
    "c"
   ]
  },
  {
   "cell_type": "code",
   "execution_count": 18,
   "metadata": {},
   "outputs": [],
   "source": [
    "import folium\n",
    "carte = folium.Map(location=[16, -64], zoom_start=7)\n",
    "folium.Marker([16,-64], popup=\"Antilles\").add_to(carte)\n",
    "carte.save('Antilles.html')"
   ]
  },
  {
   "cell_type": "code",
   "execution_count": 20,
   "metadata": {},
   "outputs": [
    {
     "data": {
      "text/plain": [
       "2"
      ]
     },
     "execution_count": 20,
     "metadata": {},
     "output_type": "execute_result"
    }
   ],
   "source": [
    "True + True"
   ]
  },
  {
   "cell_type": "code",
   "execution_count": 27,
   "metadata": {},
   "outputs": [],
   "source": [
    "def f(P, LV1, LV2):\n",
    "    \"\"\"\n",
    "    P est une liste de nom de type str\n",
    "    LV1 et LV2 sont des listes de couples (langue, note)\n",
    "    où langue est de type str\n",
    "    et où note est un entier entre 0 et 20.\n",
    "    \"\"\"\n",
    "    S = []\n",
    "    i = 0\n",
    "    for x in P:\n",
    "        S.append((x, (LV1[i][1]+LV2[i][1])/2))\n",
    "        i = i + 1\n",
    "    return S\n",
    "P = ['Adrien', 'Barnabé', 'Casimir', 'Dorian']\n",
    "LV1 = [('Allemand', 12), ('Anglais', 13), ('Anglais', 15), ('Allemand', 10)]\n",
    "LV2 = [('Anglais', 14), ('Espagnol', 7), ('Allemand', 17), ('Anglais', 12)]"
   ]
  },
  {
   "cell_type": "code",
   "execution_count": 28,
   "metadata": {},
   "outputs": [
    {
     "data": {
      "text/plain": [
       "[('Adrien', 13.0), ('Barnabé', 10.0), ('Casimir', 16.0), ('Dorian', 11.0)]"
      ]
     },
     "execution_count": 28,
     "metadata": {},
     "output_type": "execute_result"
    }
   ],
   "source": [
    "f(P, LV1, LV2)"
   ]
  },
  {
   "cell_type": "code",
   "execution_count": null,
   "metadata": {},
   "outputs": [],
   "source": []
  }
 ],
 "metadata": {
  "kernelspec": {
   "display_name": "Python 3",
   "language": "python",
   "name": "python3"
  },
  "language_info": {
   "codemirror_mode": {
    "name": "ipython",
    "version": 3
   },
   "file_extension": ".py",
   "mimetype": "text/x-python",
   "name": "python",
   "nbconvert_exporter": "python",
   "pygments_lexer": "ipython3",
   "version": "3.7.3"
  },
  "latex_envs": {
   "LaTeX_envs_menu_present": true,
   "autoclose": false,
   "autocomplete": true,
   "bibliofile": "biblio.bib",
   "cite_by": "apalike",
   "current_citInitial": 1,
   "eqLabelWithNumbers": true,
   "eqNumInitial": 1,
   "hotkeys": {
    "equation": "Ctrl-E",
    "itemize": "Ctrl-I"
   },
   "labels_anchors": false,
   "latex_user_defs": false,
   "report_style_numbering": false,
   "user_envs_cfg": false
  }
 },
 "nbformat": 4,
 "nbformat_minor": 2
}
