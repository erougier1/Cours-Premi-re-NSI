{
 "cells": [
  {
   "cell_type": "markdown",
   "metadata": {},
   "source": [
    "# Rappels de seconde sur les algorithmes et le langage Python"
   ]
  },
  {
   "cell_type": "markdown",
   "metadata": {},
   "source": [
    "## I - Affectations et variables\n",
    "### Définition\n",
    "> Un algorithme est une suite finie d'opérations élémentaires, à appliquer dans un ordre déterminé, à des données.\n",
    "\n",
    "Dans un algorithme, on utilise des \\textbf{variables}. Elles représente des nombres ou d'autres objets (listes, chaînes de caractère, ...) et on utilise une lettre ou un mot pour les désigner. On modifie leur valeur lors d'\\textbf{affectations}.\n",
    "\n",
    "On peut se représenter mentalement une variable comme une boîte pouvant contenir des objets et munit d'une étiquette : son nom. Ici deux variables $a$ et $b$.\n",
    "\n",
    "La variable $a$ est vide et la variable $b$ contient le nombre $3$ : <img src = \"A2-Variable1.png\" width= \"20%\">\n",
    "\n",
    "On effectue par exemple les affectations suivantes : \n",
    "\n",
    "  > $a\\leftarrow 4$  \n",
    "  > $b\\leftarrow a+b$\n",
    "\n",
    "Voici le résultat de ces affectations en mémoire : <img src = \"A2-Variable2.png\" width= \"20%\">\n",
    "\n",
    "Les algorithmes utilisent chacun des instructions très diverses, mais on peut ranger ces instructions en quatre grandes familles, à découvrir tout au long de l'année :\n",
    "- \\textit{entrée/sortie} ou encore \\textit{saisie/affichage}: permettent à l'utilisateur d'interagir avec l'algorithme en précisant une valeur lors de l'utilisation et désignant le résultat obtenu ;\n",
    "- \\textit{affectation de variables} : définissent ou modifient la valeur d'une variable ;\n",
    "- \\textit{instructions conditionnelles} : elles permettent de tester des conditions et proposer des choix ;\n",
    "- \\textit{boucles} : elles permettent de répéter des instructions.\n"
   ]
  },
  {
   "cell_type": "markdown",
   "metadata": {},
   "source": [
    "### Exemple\n",
    "On considère l'algorithme de calcul suivant :\n",
    "- Choisir un nombre entier $n$.\n",
    "- Lui ajouter $4$.\n",
    "- Multiplier la somme obtenue par le nombre choisi.\n",
    "- Ajouter $4$ à ce produit.\n",
    "- Écrire le résultat $r$.\n",
    "\n",
    "Il est utile d'écrire les algorithmes dans un langage proche de celui utilisé par les ordinateurs. Ici, l'algorithme serait :\n",
    "\n",
    "> __Saisir__ $n$  \n",
    " $r\\leftarrow n+4$  \n",
    " $r\\leftarrow r\\times n$  \n",
    " $r\\leftarrow 4+r$  \n",
    " __Afficher__ $r$  "
   ]
  },
  {
   "cell_type": "markdown",
   "metadata": {},
   "source": [
    "Voici la traduction de cet algorithme en Python :"
   ]
  },
  {
   "cell_type": "code",
   "execution_count": 1,
   "metadata": {},
   "outputs": [],
   "source": [
    "# Pour executer une cellule on appuie simultanément sur MAJ et ENTRER\n",
    "%load_ext tutormagic"
   ]
  },
  {
   "cell_type": "code",
   "execution_count": 2,
   "metadata": {},
   "outputs": [
    {
     "data": {
      "text/html": [
       "\n",
       "        <iframe\n",
       "            width=\"100%\"\n",
       "            height=\"500\"\n",
       "            src=\"http://pythontutor.com/iframe-embed.html#code=%23%20Pour%20voir%20l%27ex%C3%A9cution%20du%20script%20pas%20%C3%A0%20pas%0An%20%3D%20eval%28input%28%22Saisir%20n%20%3A%20%22%29%29%0Ar%20%3D%20n%20%2B%204%0Ar%20%3D%20r%20%2A%20n%0Ar%20%3D%204%20%2B%20r%0Aprint%28r%29&origin=opt-frontend.js&cumulative=false&heapPrimitives=false&textReferences=false&curInstr=0&&verticalStack=false&py=3&rawInputLstJSON=%5B%5D&codeDivWidth=50%25&codeDivHeight=100%25\"\n",
       "            frameborder=\"0\"\n",
       "            allowfullscreen\n",
       "        ></iframe>\n",
       "        "
      ],
      "text/plain": [
       "<IPython.lib.display.IFrame at 0x7fa6c056a978>"
      ]
     },
     "metadata": {},
     "output_type": "display_data"
    }
   ],
   "source": [
    "%%tutor --lang python3 --height 500\n",
    "# Pour voir l'exécution du script pas à pas\n",
    "n = eval(input(\"Saisir n : \"))\n",
    "r = n + 4\n",
    "r = r * n\n",
    "r = 4 + r\n",
    "print(r)"
   ]
  },
  {
   "cell_type": "markdown",
   "metadata": {},
   "source": [
    "### Exercice 1\n",
    "Écrire les scripts Python, sur le modèle précédent, correspondants aux expressions suivantes (il ne doit y a voir qu'une seule opération élémentaire par ligne) :\n",
    "\n",
    "**1)** $7(x+2)^2$ ;"
   ]
  },
  {
   "cell_type": "code",
   "execution_count": 3,
   "metadata": {},
   "outputs": [
    {
     "name": "stdout",
     "output_type": "stream",
     "text": [
      "Saisir x : 4\n",
      "252\n"
     ]
    }
   ],
   "source": [
    "x = eval(input(\"Saisir x : \"))\n",
    "r = x+2\n",
    "r = r**2\n",
    "r = 7*r\n",
    "print(r)"
   ]
  },
  {
   "cell_type": "markdown",
   "metadata": {},
   "source": [
    "**2)** $(7x+2)^2$ ;"
   ]
  },
  {
   "cell_type": "code",
   "execution_count": 4,
   "metadata": {},
   "outputs": [
    {
     "name": "stdout",
     "output_type": "stream",
     "text": [
      "Saisir x : 4\n",
      "900\n"
     ]
    }
   ],
   "source": [
    "x = eval(input(\"Saisir x : \"))\n",
    "r = 7*x\n",
    "r = r+2\n",
    "r = r**2\n",
    "print(r)"
   ]
  },
  {
   "cell_type": "markdown",
   "metadata": {},
   "source": [
    "**3)** $7x^2+2$ ;"
   ]
  },
  {
   "cell_type": "code",
   "execution_count": 5,
   "metadata": {},
   "outputs": [
    {
     "name": "stdout",
     "output_type": "stream",
     "text": [
      "Saisir x : 4\n",
      "114\n"
     ]
    }
   ],
   "source": [
    "x = eval(input(\"Saisir x : \"))\n",
    "r = x**2\n",
    "r = 7*r\n",
    "r = r+2\n",
    "print(r)"
   ]
  },
  {
   "cell_type": "markdown",
   "metadata": {},
   "source": [
    "**4)** $(7x)^2+2$ ;"
   ]
  },
  {
   "cell_type": "code",
   "execution_count": 6,
   "metadata": {},
   "outputs": [
    {
     "name": "stdout",
     "output_type": "stream",
     "text": [
      "Saisir x : 4\n",
      "786\n"
     ]
    }
   ],
   "source": [
    "x = eval(input(\"Saisir x : \"))\n",
    "r = 7*x\n",
    "r = r**2\n",
    "r = r+2\n",
    "print(r)"
   ]
  },
  {
   "cell_type": "markdown",
   "metadata": {},
   "source": [
    "**5)** $\\dfrac{7x}{2}+3$; "
   ]
  },
  {
   "cell_type": "code",
   "execution_count": 7,
   "metadata": {},
   "outputs": [
    {
     "name": "stdout",
     "output_type": "stream",
     "text": [
      "Saisir x : 4\n",
      "17.0\n"
     ]
    }
   ],
   "source": [
    "x = eval(input(\"Saisir x : \"))\n",
    "r = 7*x\n",
    "r = r/2\n",
    "r = r+3\n",
    "print(r)"
   ]
  },
  {
   "cell_type": "markdown",
   "metadata": {},
   "source": [
    "**6)** $\\dfrac{7x+2}{2}$."
   ]
  },
  {
   "cell_type": "code",
   "execution_count": 8,
   "metadata": {},
   "outputs": [
    {
     "name": "stdout",
     "output_type": "stream",
     "text": [
      "Saisir x : 4\n",
      "15.0\n"
     ]
    }
   ],
   "source": [
    "x = eval(input(\"Saisir x : \"))\n",
    "r = 7*x\n",
    "r = r+2\n",
    "r = r/2\n",
    "print(r)"
   ]
  },
  {
   "cell_type": "markdown",
   "metadata": {},
   "source": [
    "### Exercice 2\n",
    "On considère l'algorithme ci-dessous :\n",
    "\n",
    "> __Saisir__ $p$  \n",
    "$c\\leftarrow p-1$  \n",
    "$p\\leftarrow p+1$  \n",
    "$p\\leftarrow p\\times p-c\\times c$\n",
    "\n",
    "**1.** Qu'obtient-on à la fin de l'algorithme pour : $p=2$ ? pour $p=5$ ?<br>"
   ]
  },
  {
   "cell_type": "markdown",
   "metadata": {},
   "source": [
    "Pour $p=2$, à la fin on a $p=8$ et pour $p=5$, on a $p=20$."
   ]
  },
  {
   "cell_type": "markdown",
   "metadata": {},
   "source": [
    "**2.** Le traduire en Python ci-dessous pour vérifier vos réponse :"
   ]
  },
  {
   "cell_type": "code",
   "execution_count": 12,
   "metadata": {},
   "outputs": [
    {
     "name": "stdout",
     "output_type": "stream",
     "text": [
      "Saisir p : 5\n",
      "20\n"
     ]
    }
   ],
   "source": [
    "p = eval(input(\"Saisir p : \"))\n",
    "c = p-1\n",
    "p = p+1\n",
    "p = p*p-c*c\n",
    "print(p)"
   ]
  },
  {
   "cell_type": "markdown",
   "metadata": {},
   "source": [
    "### Exercice 3\n",
    "On considère l'algorithme ci-dessous :\n",
    "\n",
    "> __Saisir__ $a$ et $b$<br>\n",
    "$n\\leftarrow 10\\times a+b$<br>\n",
    "__Afficher__ $n$<br>\n",
    "$c\\leftarrow a$<br>\n",
    "$a\\leftarrow b$<br>\n",
    "$b\\leftarrow c$<br>\n",
    "$n\\leftarrow 10\\times a+b$<br>\n",
    "__Afficher__ $n$"
   ]
  },
  {
   "cell_type": "markdown",
   "metadata": {},
   "source": [
    "**1.** Utiliser un tableau, dont les entrées sont les variables de cet algorithme, afin de le tester pour $a=2$ et $b=3$."
   ]
  },
  {
   "cell_type": "markdown",
   "metadata": {},
   "source": [
    "| Variables | - | - | \n",
    "| :-: | :-: | :-: | \n",
    "| a | 2 | 3 |\n",
    "| b | 3 | 2\n",
    "| c | 2 |\n",
    "| n | 23  | 32|"
   ]
  },
  {
   "cell_type": "markdown",
   "metadata": {},
   "source": [
    "**2.** Reprendre le travail avec un autre couple d'entiers compris entre $0$ et $9$."
   ]
  },
  {
   "cell_type": "markdown",
   "metadata": {},
   "source": [
    "| Variables | - | - | \n",
    "| :-: | :-: | :-: | \n",
    "| a | 7 | 1 |\n",
    "| b | 1 | 7\n",
    "| c | 7 |\n",
    "| n | 71  | 17|"
   ]
  },
  {
   "cell_type": "markdown",
   "metadata": {},
   "source": [
    "**3.** Expliquer l'importance de la variable $c$."
   ]
  },
  {
   "cell_type": "markdown",
   "metadata": {},
   "source": [
    "**Correction**  \n",
    "La variable $c$ permet de stocker momentanement le contenu de la variable $a$ pour échanger les contenus des variables $a$ et $b$."
   ]
  },
  {
   "cell_type": "markdown",
   "metadata": {},
   "source": [
    "**4.** Le traduire en Python ci-dessous pour vérifier vos réponse :"
   ]
  },
  {
   "cell_type": "code",
   "execution_count": 14,
   "metadata": {},
   "outputs": [
    {
     "name": "stdout",
     "output_type": "stream",
     "text": [
      "Saisir a : 7\n",
      "Saisir b : 1\n",
      "n =  71\n",
      "n =  17\n"
     ]
    }
   ],
   "source": [
    "a = eval(input(\"Saisir a : \"))\n",
    "b = eval(input(\"Saisir b : \"))\n",
    "n = 10*a+b\n",
    "print(\"n = \", n)\n",
    "c = a\n",
    "a = b\n",
    "b = c\n",
    "n = 10*a+b\n",
    "print(\"n = \", n)"
   ]
  },
  {
   "cell_type": "markdown",
   "metadata": {},
   "source": [
    "### Exercice 4\n",
    "On considère deux points dans un repère orthonormé du plan.\n",
    "\n",
    "Compléter le script suivant afin qu'il affiche les coordonnées du milieu $I$ d'un segment $[AB]$ et le carré de la longueur de ce segment."
   ]
  },
  {
   "cell_type": "code",
   "execution_count": 17,
   "metadata": {},
   "outputs": [
    {
     "name": "stdout",
     "output_type": "stream",
     "text": [
      "Saisir les coordonnées de A séparées d'une virgule : 2,7\n",
      "Saisir les coordonnées de B séparées d'une virgule : -5,1\n",
      "Le milieu du segment [AB] a pour coordonnées I(-1.5;4.0) et le carré de la longueur de ce segment est 85.\n"
     ]
    }
   ],
   "source": [
    "# Pour saisir les données (ne rien modifier dans cette partie)\n",
    "A = input(\"Saisir les coordonnées de A séparées d'une virgule : \").split(',')\n",
    "x_A, y_A = int(A[0]), int(A[1])\n",
    "B = input(\"Saisir les coordonnées de B séparées d'une virgule : \").split(',')\n",
    "x_B, y_B = int(B[0]), int(B[1])\n",
    "\n",
    "# Compléter la suite\n",
    "x_I, y_I = (x_A+x_B)/2, (y_A+y_B)/2\n",
    "AB_carre = (x_B-x_A)**2+(y_B-y_A)**2\n",
    "print(f\"Le milieu du segment [AB] a pour coordonnées I({x_I};{y_I})\\\n",
    " et le carré de la longueur de ce segment est {AB_carre}.\")"
   ]
  },
  {
   "cell_type": "markdown",
   "metadata": {},
   "source": [
    "## Instructions conditionnelles\n",
    "### Définition\n",
    "> La structure `si ... alors ... sinon ... ` (qui se traduit par `if ... then ... else` en anglais) permet de définir une condition: \\textbf{si} cette condition est remplie, \\textbf{alors} on effectuera certaines instructions ; \\textbf{sinon} on effectuera d'autres instructions.\n",
    "\n",
    "La structure générale est la suivante :\n",
    "\n",
    "**Si** Condition **alors**  \n",
    " > Traitement $1$  \n",
    "\n",
    "**sinon**  \n",
    "> Traitement $2$\n",
    "\n",
    "La condition est soit \\textit{vraie} soit \\textit{fausse}, si elle est vraie le Traitement $1$ est effectué, si elle est fausse c'est le Traitement $2$ qui est effectué. L'intruction `sinon` n'est pas obligatoire.\n",
    "\n",
    "Sa traduction en Python est la suivante :"
   ]
  },
  {
   "cell_type": "code",
   "execution_count": null,
   "metadata": {},
   "outputs": [],
   "source": [
    "if Condition:\n",
    "    Traitement1\n",
    "else:\n",
    "    Traitement2"
   ]
  },
  {
   "cell_type": "markdown",
   "metadata": {},
   "source": [
    "### Exercice 5\n",
    "Pour les résultats du baccalauréat, l’ordinateur indique :\n",
    "- `admis` si l’élève a obtenu à l’écrit une moyenne supérieure ou égale à $10$ ;\n",
    "- `oral` si sa moyenne appartient à l’intervalle $[8; 10[$ ;\n",
    "- `recalé` sinon.\n",
    "\n",
    "Écrire un script Python affichant les résultats suivant la note saisie par l'utilisateur :"
   ]
  },
  {
   "cell_type": "code",
   "execution_count": 19,
   "metadata": {},
   "outputs": [
    {
     "name": "stdout",
     "output_type": "stream",
     "text": [
      "Saisir la note : 8.6\n",
      "Le candidat doit passer l'oral.\n"
     ]
    }
   ],
   "source": [
    "note = eval(input(\"Saisir la note : \"))\n",
    "if note >= 10:\n",
    "    print(\"Le candidat est admis.\")\n",
    "elif note >= 8:\n",
    "    print(\"Le candidat doit passer l'oral.\")\n",
    "else:\n",
    "    print(\"Le candidat est recalé.\")"
   ]
  },
  {
   "cell_type": "markdown",
   "metadata": {},
   "source": [
    "### Exercice 6\n",
    "La fonction $f$ est définie sur l'intervalle $[-5;6]$ par l'algorithme ci-dessous :\n",
    "\n",
    "**Saisir** $x$\n",
    "\n",
    "**Si** $x\\leq1$ **alors**\n",
    "\n",
    "> $y$ $\\leftarrow$ $-3x-7$\n",
    "\n",
    "**Sinon** **Si** $x\\geq3$\n",
    "\n",
    "> > $y$ $\\leftarrow$ $-\\dfrac13x+5$\n",
    "\n",
    "> **Sinon**\n",
    "> > $y$ $\\leftarrow$ $2x-2$\n",
    "\n",
    "**Afficher** $f(x)=y$\n",
    "\n",
    "1) Qu'affiche cette fonction pour les valeur $-4$, $-1$, $0$, $3$ et $6$."
   ]
  },
  {
   "cell_type": "markdown",
   "metadata": {},
   "source": [
    "**Correction**  \n",
    "Pour $x=-4$, on calcule $-3\\times(-4)-7=5$, la fonction affiche $f(-4)=5$.  \n",
    "Pour $x=-1$, on calcule $-3\\times(-1)-7=-4$, la fonction affiche $f(-1)=4$.  \n",
    "Pour $x=0$, on calcule $-3\\times0-7=-7$, la fonction affiche $f(0)=-7$.  \n",
    "Pour $x=3$, on calcule $-\\frac13\\times3+5=4$, la fonction affiche $f(3)=4$.  \n",
    "Pour $x=6$, on calcule $2\\times6-2=10$, la fonction affiche $f(6)=10$."
   ]
  },
  {
   "cell_type": "markdown",
   "metadata": {},
   "source": [
    "2) Écrire le script Python correspondant ci-dessous (Sinon Si se traduit par elif) :"
   ]
  },
  {
   "cell_type": "code",
   "execution_count": 1,
   "metadata": {},
   "outputs": [
    {
     "name": "stdout",
     "output_type": "stream",
     "text": [
      "Saisir x : -1\n",
      "f(-1)=-4\n"
     ]
    }
   ],
   "source": [
    "x = eval(input(\"Saisir x : \"))\n",
    "if x <= 1:\n",
    "    y = -3*x-7\n",
    "elif x <= 3:\n",
    "    y = -1/3*x+5\n",
    "else:\n",
    "    y = 2*x-2\n",
    "# Pour afficher le résultat utiliser la ligne suivante \n",
    "print(f\"f({x})={y}\")"
   ]
  },
  {
   "cell_type": "markdown",
   "metadata": {},
   "source": [
    "## Les boucles\n",
    "### Définition\n",
    "> Une \\textbf{boucle bornée} est utilisée lorsque l'on veut \\textbf{répéter un certain nombre de fois} les mêmes instructions. \n",
    "\n",
    "#### Remarque \n",
    "> Une variable sera utilisée pour __compter__ le nombre de répétitions, on dit parle ainsi __d'itérations__. En général, elle prendra des valeurs entières. À chaque itération, la variable est incrémentée d'une unité (sauf indication contraire).\n",
    "\n",
    "La structure générale est la suivante :\n",
    "\n",
    "**Pour** i **allant de** 0 **jusqu'à** 9 **faire**\n",
    "> Instructions\n",
    "\n",
    "**FinPour**\n",
    "\n",
    "Dans cette boucle, les _instructions_ sont répétées 10 fois. \n",
    "\n",
    "#### Remarque\n",
    "> La variable i prendra successivement les valeurs :  0, 1, 2, 3, 4, 5, 6, 7, 8 et 9.\n",
    "\n",
    "Sa traduction en Python est la suivante :"
   ]
  },
  {
   "cell_type": "code",
   "execution_count": 21,
   "metadata": {},
   "outputs": [
    {
     "name": "stdout",
     "output_type": "stream",
     "text": [
      "17.0\n"
     ]
    }
   ],
   "source": [
    "for i in range(10):\n",
    "    Instructions"
   ]
  },
  {
   "cell_type": "markdown",
   "metadata": {},
   "source": [
    "### Exercice 7\n",
    "On considère l'algorithme ci-dessous :\n",
    "\n",
    "**Saisir** n  \n",
    "s $\\leftarrow$ 0  \n",
    "**Pour** i **allant de** 1 **jusqu’à** n **faire**\n",
    "> s $\\leftarrow$ s + i\n",
    "\n",
    "**FinPour**  \n",
    "**Afficher** s"
   ]
  },
  {
   "cell_type": "markdown",
   "metadata": {},
   "source": [
    "**1.** Que retourne cet algorithme pour $n=5$ ?"
   ]
  },
  {
   "cell_type": "markdown",
   "metadata": {
    "raw_mimetype": "text/markdown"
   },
   "source": [
    "**Correction**  \n",
    "\n",
    "| Variables | - | -  | - | - | - | - |\n",
    "| :-: |:-:|:-:|:-:|:-:|:-:|:-:|\n",
    "| n |5|-|-|-|-|-|\n",
    "| i |-|1|2|3|4|5|\n",
    "| s |0|1|3|6|10|15|"
   ]
  },
  {
   "cell_type": "markdown",
   "metadata": {},
   "source": [
    "**2.** Que fait cet algorithme ?"
   ]
  },
  {
   "cell_type": "markdown",
   "metadata": {},
   "source": [
    "**Correction**  \n",
    "Cet algorithme calcule la somme des entiers $1+2+3+...+n$."
   ]
  },
  {
   "cell_type": "markdown",
   "metadata": {},
   "source": [
    "**3.** Traduire cet algorithme en Python :"
   ]
  },
  {
   "cell_type": "code",
   "execution_count": 5,
   "metadata": {},
   "outputs": [
    {
     "name": "stdout",
     "output_type": "stream",
     "text": [
      "Saisir n : 5\n",
      "15\n"
     ]
    }
   ],
   "source": [
    "n = int(input(\"Saisir n : \"))\n",
    "s = 0\n",
    "for i in range(n):\n",
    "    s = s + i + 1\n",
    "print(s)"
   ]
  },
  {
   "cell_type": "markdown",
   "metadata": {},
   "source": [
    "## Les fonctions\n",
    "### Information\n",
    "> Les fonctions permettent de décomposer un algorithme complexe en une série de sous-algorithmes plus simples, lesquels peuvent à leur tour être décomposés en fragments plus petits, et ainsi de suite. Une fonction **retourne** en **sortie** un ou des objet(s) et/ou exécute une tâche, pour cela on peut lui fournir un ou des **arguments**\n",
    "en **entrée**.  \n",
    "Une fonction est ensuite **appelée** dans le cœur de l’algorithme.\n",
    "\n",
    "La structure générale est la suivante :\n",
    "\n",
    "**Définition** Fonction(paramètres):  \n",
    "> Instructions  \n",
    "> Retourne objets  \n",
    "\n",
    "**FinDéfinition**  \n",
    "...  \n",
    "`# Appel de la fonction`  \n",
    "A $\\leftarrow$ Fonction(valeurs des paramètres)\n",
    "\n",
    "Sa syntaxe Python est la suivante :"
   ]
  },
  {
   "cell_type": "code",
   "execution_count": null,
   "metadata": {},
   "outputs": [],
   "source": [
    "def Fonction(paramètres):\n",
    "    Instruction\n",
    "    return objets\n",
    "\n",
    "# Appel de la fonctio\n",
    "A = Fonction(valeurs)"
   ]
  },
  {
   "cell_type": "markdown",
   "metadata": {},
   "source": [
    "### Remarques :\n",
    "- Il faut bien distinguer la définition de la fonction et son\n",
    "appel à l’intérieur de l’algorithme.\n",
    "- Lors de cet appel, l'objet retourné par la fonction est\n",
    "affecté à la variable A.\n",
    "\n",
    "### Exercice 8\n",
    "Dans la fonction définie ci-dessous, les paramètres $a$ et $b$ sont positifs et $b\\neq$0 :\n",
    "\n",
    "**Définition** mystère($a$,$b$):  \n",
    "> $r$ $\\leftarrow$ $a$  \n",
    "> $q$ $\\leftarrow$ $0$  \n",
    "> **Tant que** $r\\geqslant b$ **faire**  \n",
    "> > $r \\leftarrow r-b$  \n",
    "> > $q \\leftarrow q+1$  \n",
    "> \n",
    "> **FinTantque**  \n",
    "> Retourne $r$  \n",
    "\n",
    "**FinDéfinition**\n",
    "\n",
    "#### Remarque\n",
    "> Lorsque l'instruction **Retourne** est rencontrée, on sort de la fonction\n",
    "\n",
    "**1.** Tester la fonction avec les paramètres 15 et 5, puis, avec 17 et 6."
   ]
  },
  {
   "cell_type": "markdown",
   "metadata": {},
   "source": [
    "**Correction**\n",
    "> Pour $a=15$ et $b=5$ :\n",
    "\n",
    "| Variables | - | - | - | - |\n",
    "| - | :-: | :-: | :-: | :-: |\n",
    "| **a** | 15 |\n",
    "| **b** | 5 | \n",
    "| **q** | 0 | 1 | 2 | 3 |\n",
    "| **r** | 15 | 10 | 5 | 0 | \n",
    "\n",
    "> Pour $a=17$ et $b=6$ :\n",
    "\n",
    "| Variables | - | - | - | - |\n",
    "| :--: | :-: | :-: | :-: | :-: |\n",
    "| **a** | 17 |\n",
    "| **b** | 6 | \n",
    "| **q** | 0 | 1 | 2 | \n",
    "| **r** | 17 | 11 | 5 |  "
   ]
  },
  {
   "cell_type": "markdown",
   "metadata": {},
   "source": [
    "**2.** Expliquer pourquoi la boucle se termine toujours."
   ]
  },
  {
   "cell_type": "markdown",
   "metadata": {},
   "source": [
    "**Correction**  \n",
    "Dans la boucle `Tant que` on peut observer que $r$ diminue de $b$ à chaque itération, ainsi la condition $r<b$ sera réalisée."
   ]
  },
  {
   "cell_type": "markdown",
   "metadata": {},
   "source": [
    "**3.** Montrer qu’avant le début de la boucle ainsi qu’à la fin de chaque itération de la boucle, on a toujours $a = bq + r$."
   ]
  },
  {
   "cell_type": "markdown",
   "metadata": {},
   "source": [
    "**Correction**  \n",
    "> - Avant le début de la boucle, on a : $r=a$ et $q=0$, ainsi $bq+r=a$.  \n",
    "- À la fin de chaque itération, on a les affectations $r \\leftarrow r-b$ et $q \\leftarrow q+1$, ainsi $bq+r$ devient $b(q+1)+r-b=bq+r+b-b=bq+r=a$."
   ]
  },
  {
   "cell_type": "markdown",
   "metadata": {},
   "source": [
    "**4.** Vérifier que la valeur retournée est toujours strictement inférieur à $b$. Finalement, que fait cette fonction ?"
   ]
  },
  {
   "cell_type": "markdown",
   "metadata": {},
   "source": [
    "**Correction**  \n",
    "Lorsque l'on sort de la boucle, la condition de la boucle `Tant que` n'est plus vraie, ainsi $r<b$.\n",
    "\n",
    "Cette fonction retourne le reste de la division entière de $a$ par $b$."
   ]
  },
  {
   "cell_type": "markdown",
   "metadata": {},
   "source": [
    "**5.** Traduire cette fonction en Python."
   ]
  },
  {
   "cell_type": "code",
   "execution_count": 6,
   "metadata": {},
   "outputs": [],
   "source": [
    "def mystere(a,b):\n",
    "    r = a\n",
    "    q = 0\n",
    "    while r >= b:\n",
    "        r = r - b\n",
    "        q = q + 1\n",
    "    return r"
   ]
  },
  {
   "cell_type": "markdown",
   "metadata": {},
   "source": [
    "**6.** Vérifier vos résultats de la question **1.** en appelant cette fonction avec les valeurs correspondantes :"
   ]
  },
  {
   "cell_type": "code",
   "execution_count": 7,
   "metadata": {},
   "outputs": [
    {
     "data": {
      "text/plain": [
       "0"
      ]
     },
     "execution_count": 7,
     "metadata": {},
     "output_type": "execute_result"
    }
   ],
   "source": [
    "mystere(15,5)"
   ]
  },
  {
   "cell_type": "code",
   "execution_count": 8,
   "metadata": {},
   "outputs": [
    {
     "data": {
      "text/plain": [
       "5"
      ]
     },
     "execution_count": 8,
     "metadata": {},
     "output_type": "execute_result"
    }
   ],
   "source": [
    "mystere(17,6)"
   ]
  },
  {
   "cell_type": "markdown",
   "metadata": {},
   "source": [
    "### Définition\n",
    "> On appelle nombre premier, un nombre entier naturel ayant exactement deux diviseurs entiers naturels : 1 et lui-même."
   ]
  },
  {
   "cell_type": "markdown",
   "metadata": {},
   "source": [
    "**7.** Écrire une fonction `premier` qui retourne `True` si le nombre est premier et `False` sinon. "
   ]
  },
  {
   "cell_type": "code",
   "execution_count": 9,
   "metadata": {},
   "outputs": [],
   "source": [
    "def premier(p):\n",
    "    n = 2\n",
    "    for i in range(2,p):\n",
    "        if mystere(p,n) == 0:\n",
    "            return False\n",
    "        else:\n",
    "            n = n + 1\n",
    "    return True"
   ]
  },
  {
   "cell_type": "code",
   "execution_count": 10,
   "metadata": {},
   "outputs": [
    {
     "data": {
      "text/plain": [
       "True"
      ]
     },
     "execution_count": 10,
     "metadata": {},
     "output_type": "execute_result"
    }
   ],
   "source": [
    "premier(7)"
   ]
  },
  {
   "cell_type": "code",
   "execution_count": 11,
   "metadata": {},
   "outputs": [
    {
     "data": {
      "text/plain": [
       "False"
      ]
     },
     "execution_count": 11,
     "metadata": {},
     "output_type": "execute_result"
    }
   ],
   "source": [
    "premier(1678)"
   ]
  },
  {
   "cell_type": "code",
   "execution_count": 18,
   "metadata": {},
   "outputs": [
    {
     "data": {
      "text/plain": [
       "True"
      ]
     },
     "execution_count": 18,
     "metadata": {},
     "output_type": "execute_result"
    }
   ],
   "source": [
    "premier(1868777)"
   ]
  },
  {
   "cell_type": "code",
   "execution_count": null,
   "metadata": {},
   "outputs": [],
   "source": []
  }
 ],
 "metadata": {
  "celltoolbar": "Format de la Cellule Texte Brut",
  "kernelspec": {
   "display_name": "Python 3",
   "language": "python",
   "name": "python3"
  },
  "language_info": {
   "codemirror_mode": {
    "name": "ipython",
    "version": 3
   },
   "file_extension": ".py",
   "mimetype": "text/x-python",
   "name": "python",
   "nbconvert_exporter": "python",
   "pygments_lexer": "ipython3",
   "version": "3.7.3"
  },
  "latex_envs": {
   "LaTeX_envs_menu_present": true,
   "autoclose": false,
   "autocomplete": true,
   "bibliofile": "biblio.bib",
   "cite_by": "apalike",
   "current_citInitial": 1,
   "eqLabelWithNumbers": true,
   "eqNumInitial": 1,
   "hotkeys": {
    "equation": "Ctrl-E",
    "itemize": "Ctrl-I"
   },
   "labels_anchors": false,
   "latex_user_defs": false,
   "report_style_numbering": false,
   "user_envs_cfg": false
  }
 },
 "nbformat": 4,
 "nbformat_minor": 2
}
